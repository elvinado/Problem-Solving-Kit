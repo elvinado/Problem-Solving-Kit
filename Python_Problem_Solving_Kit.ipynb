{
 "cells": [
  {
   "cell_type": "markdown",
   "metadata": {
    "colab_type": "text",
    "id": "view-in-github"
   },
   "source": [
    "<a href=\"https://colab.research.google.com/github/elvinado/Problem-Solving-Kit/blob/main/Python_Problem_Solving_Kit.ipynb\" target=\"_parent\"><img src=\"https://colab.research.google.com/assets/colab-badge.svg\" alt=\"Open In Colab\"/></a>"
   ]
  },
  {
   "cell_type": "markdown",
   "metadata": {},
   "source": [
    "# Random Selector"
   ]
  },
  {
   "cell_type": "code",
   "execution_count": null,
   "metadata": {},
   "outputs": [],
   "source": []
  },
  {
   "cell_type": "code",
   "execution_count": 3,
   "metadata": {},
   "outputs": [
    {
     "name": "stdout",
     "output_type": "stream",
     "text": [
      "['a', 'b', 'c', 'd', 'e', 'f']\n",
      "['a', 'b', 'c', 'e', 'f']\n"
     ]
    }
   ],
   "source": [
    "#@title\n",
    "import random\n",
    "\n",
    "# Make a list\n",
    "choices = list(\"abcdef\")\n",
    "print(choices)\n",
    "# Choose from the list\n",
    "choice = random.choice(choices)\n",
    "# Remove chosen from the list\n",
    "choices.remove(choice)\n",
    "print(choices)"
   ]
  },
  {
   "cell_type": "code",
   "execution_count": 1,
   "metadata": {
    "id": "xYPX9uTqxPuI"
   },
   "outputs": [],
   "source": [
    "#@title\r\n",
    "def select_problem(problems):\r\n",
    "    \"\"\"\r\n",
    "    input\r\n",
    "        problems - list of problems\r\n",
    "    \r\n",
    "    return\r\n",
    "        problem - selected problem\r\n",
    "    \"\"\"\r\n",
    "    if problems:\r\n",
    "        problem = random.choice(problems)\r\n",
    "        problems.remove(problem)\r\n",
    "    else:\r\n",
    "        problem = None\r\n",
    "    \n",
    "\n",
    "problems = list(\"abcdef\")\n",
    "\n",
    "while True:\n",
    "    print(\"Remaining problem:\",problems)\n",
    "    problem = select_problem(problems)\n",
    "    if problem:\n",
    "        print(\"Chosen:\",problem)\n",
    "    else:\n",
    "        print(\"No more problem\")\n",
    "        breakreturn problem"
   ]
  },
  {
   "cell_type": "code",
   "execution_count": null,
   "metadata": {
    "id": "v16OFg6uzz7X"
   },
   "outputs": [],
   "source": []
  }
 ],
 "metadata": {
  "colab": {
   "authorship_tag": "ABX9TyPcQaGXE3tYXUzmivbrZNMZ",
   "include_colab_link": true,
   "name": "Python-Problem-Solving-Kit.ipynb",
   "provenance": []
  },
  "kernelspec": {
   "display_name": "Python 3",
   "language": "python",
   "name": "python3"
  },
  "language_info": {
   "codemirror_mode": {
    "name": "ipython",
    "version": 3
   },
   "file_extension": ".py",
   "mimetype": "text/x-python",
   "name": "python",
   "nbconvert_exporter": "python",
   "pygments_lexer": "ipython3",
   "version": "3.8.6"
  }
 },
 "nbformat": 4,
 "nbformat_minor": 4
}
