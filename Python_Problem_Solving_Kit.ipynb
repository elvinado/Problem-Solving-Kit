{
 "cells": [
  {
   "cell_type": "markdown",
   "metadata": {
    "colab_type": "text",
    "id": "view-in-github"
   },
   "source": [
    "<a href=\"https://colab.research.google.com/github/elvinado/Problem-Solving-Kit/blob/main/Python_Problem_Solving_Kit.ipynb\" target=\"_parent\"><img src=\"https://colab.research.google.com/assets/colab-badge.svg\" alt=\"Open In Colab\"/></a>"
   ]
  },
  {
   "cell_type": "markdown",
   "metadata": {},
   "source": [
    "<a id=\"Toc\"></a>"
   ]
  },
  {
   "cell_type": "markdown",
   "metadata": {},
   "source": [
    "# Table of Content\n",
    "\n",
    "[Minimum Basic Concepts](#Section00)\n",
    "\n",
    "<ins>Basic Skills</ins>\n",
    "\n",
    "1. [Create a list](#Section01)\n",
    "2. [Do thing repetitively](#Section02)\n",
    "3. [Find duplicates in list](#Section03)\n",
    "4. [Make all text capital or lowercase, etc.](#Section04)\n",
    "5. [Do simple maths](#Section05)\n",
    "6. [Do simple statistics](#Section06)\n",
    "7. [Compare things](#Section07)\n",
    "8. [Do thing only when condition is met](#Section08)\n",
    "9. [Choose randomly from a list](#Section09)\n",
    "\n",
    "<ins>Combination of Multiple Skills</ins>\n",
    "\n",
    "10. [Generate Folders from list & list out folder contents?](#Section10)\n",
    "11. [Rearrange files into folders?](#Section11)\n",
    "12. [Plot list of x values and y values](#Section12)\n",
    "13. [Download things from the internet](#Section13)\n",
    "14. [Manipulate image](#Section14)\n",
    "15. [Load Excel file into Python for further analysis](#Section15)\n",
    "16. [Investigate table of data](#Section16)\n",
    "17. [Search specific text from many text files](#Section17)\n",
    "18. [So Fizz Buzz problem](#Section18)\n",
    "19. [Check the impact of decimal places to the mean value](#Section19)\n",
    "20. [Extract image frame from video](#Section20)\n",
    "21. [Load and read table online](#Section21)\n"
   ]
  },
  {
   "cell_type": "markdown",
   "metadata": {},
   "source": [
    "[Go to Table of Content](#Toc)\n",
    "<a id=\"Section00\"></a>"
   ]
  },
  {
   "cell_type": "markdown",
   "metadata": {},
   "source": [
    "# Minimum Basic Concepts\n",
    "\n",
    "And some rule of thumbs.\n",
    "\n",
    "_Disclaimer: I ignore many nuances for the sake of simplity._\n",
    "\n",
    "## 1. Variable\n",
    "Basically any name that you decide. It is good habit to use descriptive noun as following:\n",
    "\n",
    "        book           # variable name of a book (root word of the noun)\n",
    "        books          # variable name of a list of book (use \"s\" at the end of the noun)\n",
    "        reader_of_book # variable name for the reader of a book (use underscore)\n",
    "        book_count     # variable name of the count of book (multiple word noun)\n",
    "\n",
    "Don't name your variable like following:\n",
    "        \n",
    "        bk             # you believe this means book. BAD naming!\n",
    "        bks            # you believe this means books. BAD naming!\n",
    "        rob            # you believe this means reader. BAD naming!\n",
    "        bc             # you believe this means count. BAD naming!\n",
    "        \n",
    "Some word are not allowed as variable names (also you have no reason to want to use them):\n",
    "\n",
    "        True           # Reserved word Not allowed!\n",
    "        None           # Reserved word Not allowed!\n",
    "        1_var          # Starting with numbers not allowed!\n",
    "        \n",
    "        import keyword\n",
    "        keyword.kwlist # To check all reserved word.\n",
    "\n",
    "## 2. Assigment of value to a variable\n",
    "Assign value on the right with **equal sign =** to variable on the left. Just like in mathematics.\n",
    "        \n",
    "        variable_name = value\n",
    "        book = \"Fluent Python, Clear,Consise, and Effective Programming\"\n",
    "        books = [\"Fluent Python, Clear,Consise, and Effective Programming\",\n",
    "                 \"Hands-On Machine Learning with Scikit-Learn, Keras & TensorFlow\"]\n",
    "\n",
    "## 3. List\n",
    "List is something with **squared bracket \\[...\\]**\n",
    "\n",
    "Each element is separated by **comma**\n",
    "\n",
    "In my opinion the simplest data structure in Python. It can store 0,1 or more of \"anything\" in the list.\n",
    "        \n",
    "        []                         # empty list\n",
    "        [\"textbook\"]               # 1 item in a list\n",
    "        [\"textbook\",\"story_book\"]  # 2 items in a list containing 2 texts\n",
    "        [\"textbook\",2,my_variable] # 3 items in a list with mixture of \"things\" inside (text, number & variable). This is allowed but please avoid. Try not to mix. BAD habit!\n",
    "       \n",
    "\n",
    "## 4. Importing module\n",
    "When our plain vanilla \"Python\" is not enough, we import module to add feature to our \"Python\".\n",
    "\n",
    "        import os                         # import single module\n",
    "        import matplotlib.pyplot as plt   # import single module with alias. \"plt\" in this case is common alias people use for pyplot.\n",
    "        import os, math, statistics       # import multiple modules in one line\n",
    "        from random import choice         # import a module from a package\n",
    "        \n",
    "\n",
    "## 5. Comment\n",
    "Anything preceded by this **\\# hashtag symbol** is called comment and will not be processed by the computer.\n",
    "\n",
    "## 6. Indentation\n",
    "Python use indentation in its syntax. Use 1 tab or 4 spaces or 2 spaces as indent.\n",
    "\n",
    "        for number in numbers: # first line is not indented\n",
    "            print(number)      # this line have 4 spaces indented compare to first line\n",
    "\n",
    "_**p/s: But one day when you are skillfull enough you can do whatever you like. For now just follow this rule.**_"
   ]
  },
  {
   "cell_type": "markdown",
   "metadata": {},
   "source": [
    "[Go to Table of Content](#Toc)\n",
    "<a id=\"Section01\"></a>"
   ]
  },
  {
   "cell_type": "markdown",
   "metadata": {},
   "source": [
    "---\n",
    "# How to a create list?\n",
    "\n",
    "### Code Example\n",
    "        [\"a\",\"l\",\"v\",\"i\",\"n\"]"
   ]
  },
  {
   "cell_type": "code",
   "execution_count": null,
   "metadata": {},
   "outputs": [],
   "source": [
    "# create a fruits list containing Apple,Banana,Cherry,Dragon Fruit\n",
    "\n",
    "# create a furnitures list containing chair,table,cupboard,sofa\n",
    "\n",
    "# create a list of alphabet character from word sophisticated\n",
    "\n",
    "# create a list of numbers containing 1,2,3,4,5,6\n",
    "\n",
    "# create a list of numbers containing 1,3,5,7,9,11\n"
   ]
  },
  {
   "cell_type": "markdown",
   "metadata": {},
   "source": [
    "# Solution"
   ]
  },
  {
   "cell_type": "code",
   "execution_count": null,
   "metadata": {},
   "outputs": [],
   "source": [
    "# create a fruits list containing Apple,Banana,Cherry,Dragon Fruit\n",
    "fruits = [\"Apple\",\"Banana\",\"Cherry\",\"Dragon Fruit\"]\n",
    "print(fruits)\n",
    "# create a furnitures list containing chair,table,cupboard,sofa\n",
    "furnitures = ['chair',\"table\",'cupboard',\"sofa\"]\n",
    "print(furnitures)\n",
    "# create a list of alphabet characters from the word sophisticated\n",
    "chars = list(\"sophisticated\")\n",
    "print(chars)\n",
    "# create a list of numbers containing 1,2,3,4,5,6\n",
    "nos = [1,2,3,4,5,6]\n",
    "print(nos)\n",
    "nos2 = list(range(1,7))\n",
    "print(nos2)\n",
    "# create a list of numbers containing 1,3,5,7,9,11\n",
    "nos3 = list(range(1,12,2))\n",
    "print(nos3)\n",
    "nos4 = nos3[::-1]\n",
    "print(nos4)"
   ]
  },
  {
   "cell_type": "markdown",
   "metadata": {},
   "source": [
    "[Go to Table of Content](#Toc)\n",
    "<a id=\"Section02\"></a>"
   ]
  },
  {
   "cell_type": "markdown",
   "metadata": {},
   "source": [
    "---\n",
    "# How to do thing repetitively?\n",
    "\n",
    "Sometimes we need to do same thing again and again like a million times.\n",
    "\n",
    "You need a for loop. Follow the following structure:\n",
    "\n",
    "        for i in my_list:\n",
    "            do something useful to i\n",
    "        \n",
    "### Code Example\n",
    "\n",
    "        for x in [\"a\",\"l\",\"v\",\"i\",\"n\"]:\n",
    "            print(f\"In my name, there is character {x.upper()}\")\n"
   ]
  },
  {
   "cell_type": "code",
   "execution_count": null,
   "metadata": {},
   "outputs": [],
   "source": [
    "# alternative example, printing A 10 times\n",
    "for _ in range(10):\n",
    "    print(\"A\")"
   ]
  },
  {
   "cell_type": "markdown",
   "metadata": {},
   "source": [
    "## Do together"
   ]
  },
  {
   "cell_type": "code",
   "execution_count": null,
   "metadata": {},
   "outputs": [],
   "source": [
    "# print the word apple 5 times\n"
   ]
  },
  {
   "cell_type": "code",
   "execution_count": null,
   "metadata": {},
   "outputs": [],
   "source": [
    "# create list of things\n",
    "fruits = [\"Apple\",\"Banana\",\"Cherry\",\"Dragon Fruit\"]\n",
    "# Print each fruits with the full sentense of \"I love to eat FRUITNAME\"\n",
    "\n"
   ]
  },
  {
   "cell_type": "markdown",
   "metadata": {},
   "source": [
    "## Solution"
   ]
  },
  {
   "cell_type": "code",
   "execution_count": null,
   "metadata": {},
   "outputs": [],
   "source": [
    "for _ in range(5):\n",
    "    print(\"apple\")"
   ]
  },
  {
   "cell_type": "code",
   "execution_count": null,
   "metadata": {},
   "outputs": [],
   "source": [
    "for fruit in fruits:\n",
    "    print(f\"I love to eat {fruit}.\")"
   ]
  },
  {
   "cell_type": "markdown",
   "metadata": {},
   "source": [
    "### Extra\n",
    "<ins>List Comprehension</ins>\n",
    "\n",
    "Doing stuff to a list to create a new list using the following structure:\n",
    "\n",
    "        [do_something_to_variable for variable in variable_list]"
   ]
  },
  {
   "cell_type": "code",
   "execution_count": null,
   "metadata": {},
   "outputs": [],
   "source": [
    "# list comprehension\n",
    "[f\"I love to eat {fruit}.\" for fruit in fruits]"
   ]
  },
  {
   "cell_type": "markdown",
   "metadata": {},
   "source": [
    "[Go to Table of Content](#Toc)\n",
    "<a id=\"Section03\"></a>"
   ]
  },
  {
   "cell_type": "markdown",
   "metadata": {},
   "source": [
    "---\n",
    "# How to find duplicates in list?\n",
    "\n",
    "Then in this million things, you need to find if there are any duplication.\n",
    "\n",
    "### Need to import collections module\n",
    "        import collections\n",
    "\n",
    "### Code Example\n",
    "        # get a list\n",
    "        words = [\"car\",\"cat\",\"car\",\"coat\",\"call\",\"cell\",\"cart\",\"cat\",\"cat\"]\n",
    "        \n",
    "        # count numbers of each item\n",
    "        print(collections.Counter(words))\n",
    "        \n",
    "> Counter({'cat': 3, 'car': 2, 'coat': 1, 'call': 1, 'cell': 1, 'cart': 1})"
   ]
  },
  {
   "cell_type": "markdown",
   "metadata": {},
   "source": [
    "## Do together"
   ]
  },
  {
   "cell_type": "code",
   "execution_count": null,
   "metadata": {},
   "outputs": [],
   "source": [
    "# get a list\n",
    "list_of_random_characters = list(\"guikljKUIKjfukgjhukytkhukfygkhjUKGYKHfguh\".lower())\n",
    "# count numbers of each item\n"
   ]
  },
  {
   "cell_type": "markdown",
   "metadata": {},
   "source": [
    "## Solution"
   ]
  },
  {
   "cell_type": "code",
   "execution_count": null,
   "metadata": {},
   "outputs": [],
   "source": [
    "import collections\n",
    "# get a list\n",
    "list_of_random_characters = list(\"guikljKUIKjfukgjhukytkhukfygkhjUKGYKHfguh\".lower())\n",
    "# count numbers of each item\n",
    "print(dict(collections.Counter(list_of_random_characters)))"
   ]
  },
  {
   "cell_type": "markdown",
   "metadata": {},
   "source": [
    "[Go to Table of Content](#Toc)\n",
    "<a id=\"Section04\"></a>"
   ]
  },
  {
   "cell_type": "markdown",
   "metadata": {},
   "source": [
    "---\n",
    "# How to do make all text capital or lowercase, etc.?\n",
    "\n",
    "What I call **TEXT** if often in programming called **STRING**. In Python anything in between **double quote \"...\"** or **single quote '...'** is **STRING**\n",
    "\n",
    "### Code Example \n",
    "        # All uppercase\n",
    "        \"sometext\".upper()\n",
    "        \n",
    "        # All lowercase\n",
    "        \"SomEtEXt\".lower()\n",
    "        \n",
    "        # Capitalize Each Word\n",
    "        \"sometext\".title()\n",
    "        \n",
    "        # Replace word\n",
    "        \"sometext\".replace(\"e\",\"i\")\n",
    "        \n",
    "        # Make into list\n",
    "        list(\"sometext\")"
   ]
  },
  {
   "cell_type": "markdown",
   "metadata": {},
   "source": [
    "## Do together"
   ]
  },
  {
   "cell_type": "code",
   "execution_count": null,
   "metadata": {},
   "outputs": [],
   "source": [
    "text = \"\"\"Beautiful is better than ugly.\n",
    "Explicit is better than implicit.\n",
    "Simple is better than complex.\n",
    "Complex is better than complicated.\n",
    "Flat is better than nested.\n",
    "Sparse is better than dense.\n",
    "Readability counts.\"\"\""
   ]
  },
  {
   "cell_type": "code",
   "execution_count": null,
   "metadata": {},
   "outputs": [],
   "source": [
    "# Make all uppercase\n"
   ]
  },
  {
   "cell_type": "code",
   "execution_count": null,
   "metadata": {},
   "outputs": [],
   "source": [
    "# Make all lowercase\n"
   ]
  },
  {
   "cell_type": "code",
   "execution_count": null,
   "metadata": {},
   "outputs": [],
   "source": [
    "# Capitalize each word\n"
   ]
  },
  {
   "cell_type": "code",
   "execution_count": null,
   "metadata": {},
   "outputs": [],
   "source": [
    "# Replace some word to another\n"
   ]
  },
  {
   "cell_type": "code",
   "execution_count": null,
   "metadata": {},
   "outputs": [],
   "source": [
    "# Make sentences or text into list\n"
   ]
  },
  {
   "cell_type": "markdown",
   "metadata": {},
   "source": [
    "## Solution"
   ]
  },
  {
   "cell_type": "code",
   "execution_count": null,
   "metadata": {},
   "outputs": [],
   "source": [
    "print(text.upper(),\"\\n\")\n",
    "print(text.lower(),\"\\n\")\n",
    "print(text.title(),\"\\n\")\n",
    "print(text.replace(\"than\",\"THANNNNN\"),\"\\n\")\n",
    "print(text.split(),\"\\n\")"
   ]
  },
  {
   "cell_type": "markdown",
   "metadata": {},
   "source": [
    "[Go to Table of Content](#Toc)\n",
    "<a id=\"Section05\"></a>"
   ]
  },
  {
   "cell_type": "markdown",
   "metadata": {},
   "source": [
    "---\n",
    "# How to do simple maths?\n",
    "- Arithmethic\n",
    "- Trigonometry\n",
    "- Combinations, Permutations\n",
    "- Factorial\n",
    "- Log, Power, Square Root\n",
    "\n",
    "### Need to import math module\n",
    "        import math\n",
    "### Code Example\n",
    "        x + y\n",
    "        x - y\n",
    "        x * y\n",
    "        x / y\n",
    "        math.degrees(radian_value)\n",
    "        math.radians(degree_value)\n",
    "        math.sin(radian_value)\n",
    "        math.cos(radian_value)\n",
    "        math.tan(radian_value)\n",
    "        math.comb(n,k)\n",
    "        math.perm(n,k)\n",
    "        math.factorial(x)\n",
    "        math.pow(10,2)\n",
    "        math.log10(x)\n",
    "        math.sqrt(x)"
   ]
  },
  {
   "cell_type": "markdown",
   "metadata": {},
   "source": [
    "## Do together"
   ]
  },
  {
   "cell_type": "code",
   "execution_count": null,
   "metadata": {},
   "outputs": [],
   "source": [
    "# plus\n"
   ]
  },
  {
   "cell_type": "code",
   "execution_count": null,
   "metadata": {},
   "outputs": [],
   "source": [
    "# minus\n"
   ]
  },
  {
   "cell_type": "code",
   "execution_count": null,
   "metadata": {},
   "outputs": [],
   "source": [
    "# multiply\n"
   ]
  },
  {
   "cell_type": "code",
   "execution_count": null,
   "metadata": {},
   "outputs": [],
   "source": [
    "# division\n"
   ]
  },
  {
   "cell_type": "code",
   "execution_count": null,
   "metadata": {},
   "outputs": [],
   "source": [
    "# import math\n"
   ]
  },
  {
   "cell_type": "code",
   "execution_count": null,
   "metadata": {},
   "outputs": [],
   "source": [
    "# Degree -> Radian"
   ]
  },
  {
   "cell_type": "code",
   "execution_count": null,
   "metadata": {},
   "outputs": [],
   "source": [
    "# Radian -> Degree"
   ]
  },
  {
   "cell_type": "code",
   "execution_count": null,
   "metadata": {},
   "outputs": [],
   "source": [
    "# Sin"
   ]
  },
  {
   "cell_type": "code",
   "execution_count": null,
   "metadata": {},
   "outputs": [],
   "source": [
    "# Cos"
   ]
  },
  {
   "cell_type": "code",
   "execution_count": null,
   "metadata": {},
   "outputs": [],
   "source": [
    "# Tan"
   ]
  },
  {
   "cell_type": "code",
   "execution_count": null,
   "metadata": {},
   "outputs": [],
   "source": []
  },
  {
   "cell_type": "markdown",
   "metadata": {},
   "source": [
    "## Solution"
   ]
  },
  {
   "cell_type": "code",
   "execution_count": null,
   "metadata": {},
   "outputs": [],
   "source": [
    "# Arithmetic\n",
    "print(1 + 1)\n",
    "print(2 - 1)\n",
    "print(3 * 2)\n",
    "print(10 / 5)"
   ]
  },
  {
   "cell_type": "code",
   "execution_count": null,
   "metadata": {},
   "outputs": [],
   "source": [
    "import math"
   ]
  },
  {
   "cell_type": "code",
   "execution_count": null,
   "metadata": {},
   "outputs": [],
   "source": [
    "import math\n",
    "import matplotlib.pyplot as plt\n",
    "print(\"pi/180 radians in degrees: \",math.degrees(math.pi/180)) # Radians -> Degree  => 180 degrees = pi radians\n",
    "print(\"180 degrees in radians: \",math.radians(180))            # Degree  -> Radians => 1 radians = pi/180 degrees\n",
    "plt.plot([math.sin(i*0.1) for i in range(0,100)])\n",
    "plt.plot([math.cos(i*0.1) for i in range(0,100)])\n",
    "plt.legend([\"Sin\",\"Cos\"])\n",
    "plt.show()\n",
    "plt.plot([math.tan(i*0.1) for i in range(0,100)])\n",
    "plt.show()"
   ]
  },
  {
   "cell_type": "code",
   "execution_count": null,
   "metadata": {},
   "outputs": [],
   "source": [
    "print(math.comb(5,2)) # 5 number of things choose 2, repeat not allowed\n",
    "print(math.perm(5,2)) # repeat allowed\n",
    "print(math.factorial(5)) # 5 x 4 x 3 x 2 x 1"
   ]
  },
  {
   "cell_type": "code",
   "execution_count": null,
   "metadata": {},
   "outputs": [],
   "source": [
    "print(math.pow(10,2))\n",
    "print(math.log10(100))\n",
    "print(math.sqrt(144))"
   ]
  },
  {
   "cell_type": "code",
   "execution_count": null,
   "metadata": {},
   "outputs": [],
   "source": [
    "# loop the all\n",
    "list_of_number = [79, 56, 71, 36, 99, 5, 7, 37, 57, 2, 10, 55, 18, 35, 41, 43, 31, 5, 63, 85]\n",
    "for i in list_of_number:\n",
    "    print(math.sqrt(i))"
   ]
  },
  {
   "cell_type": "markdown",
   "metadata": {},
   "source": [
    "[Go to Table of Content](#Toc)\n",
    "<a id=\"Section06\"></a>"
   ]
  },
  {
   "cell_type": "markdown",
   "metadata": {},
   "source": [
    "---\n",
    "# How to do simple statistics?\n",
    "- Average\n",
    "- Median\n",
    "- Most common value\n",
    "- Variance\n",
    "- Standard Deviation\n",
    "\n",
    "### Need to import statistics module\n",
    "        import statistics as st\n",
    "        \n",
    "### Code Example\n",
    "        st.mean(list_of_numbers)\n",
    "        st.median(list_of_numbers)\n",
    "        st.mode(list_of_numbers)\n",
    "        st.variance(list_of_numbers)\n",
    "        st.stdev(list_of_numbers)"
   ]
  },
  {
   "cell_type": "markdown",
   "metadata": {},
   "source": [
    "## Do together"
   ]
  },
  {
   "cell_type": "code",
   "execution_count": null,
   "metadata": {},
   "outputs": [],
   "source": [
    "numbers = [1,5,7,3,6,7,4,8,8,9,3,1,1,1,1,1]"
   ]
  },
  {
   "cell_type": "code",
   "execution_count": null,
   "metadata": {},
   "outputs": [],
   "source": [
    "# Find average\n"
   ]
  },
  {
   "cell_type": "code",
   "execution_count": null,
   "metadata": {},
   "outputs": [],
   "source": [
    "# Find Median\n"
   ]
  },
  {
   "cell_type": "code",
   "execution_count": null,
   "metadata": {},
   "outputs": [],
   "source": [
    "# Find most common numbers\n"
   ]
  },
  {
   "cell_type": "code",
   "execution_count": null,
   "metadata": {},
   "outputs": [],
   "source": [
    "# Find Variance\n"
   ]
  },
  {
   "cell_type": "code",
   "execution_count": null,
   "metadata": {},
   "outputs": [],
   "source": [
    "# find standard deviation\n"
   ]
  },
  {
   "cell_type": "markdown",
   "metadata": {},
   "source": [
    "## Solution"
   ]
  },
  {
   "cell_type": "code",
   "execution_count": null,
   "metadata": {},
   "outputs": [],
   "source": [
    "import statistics as st\n",
    "print(sorted(numbers))\n",
    "print(\"Mean          :\",st.mean(numbers)) # Arithmetic mean (average) of data.\n",
    "print(\"Median        :\",st.median(numbers)) # Median (middle value) of data.\n",
    "print(\"Mode          :\",st.mode(numbers)) # Mode (most common value) of data.\n",
    "print(\"Pop. Variance :\",st.pvariance(numbers)) # Population variance of data.\n",
    "print(\"Samp. Variance:\",st.variance(numbers)) # Sample variance of data. (subset of population)\n",
    "print(\"Pop. Std:     :\",st.pstdev(numbers)) # Population standard deviation of data.\n",
    "print(\"Samp. Std     :\",st.stdev(numbers)) # Sample standard deviation of data."
   ]
  },
  {
   "cell_type": "markdown",
   "metadata": {},
   "source": [
    "[Go to Table of Content](#Toc)\n",
    "<a id=\"Section07\"></a>"
   ]
  },
  {
   "cell_type": "markdown",
   "metadata": {},
   "source": [
    "---\n",
    "# How to compare things?\n",
    "\n",
    "### Python Comparison Operators\n",
    "        1. Equal                    : a == b\n",
    "        2. Not Equal                : a != b\n",
    "        3. Greater Than             : a >  b\n",
    "        4. Less Than                : a <  b\n",
    "        5. Greater Than or Equal to : a >= b\n",
    "        6. Less Than or Equal to    : a <= b"
   ]
  },
  {
   "cell_type": "markdown",
   "metadata": {},
   "source": [
    "## Do together"
   ]
  },
  {
   "cell_type": "code",
   "execution_count": null,
   "metadata": {},
   "outputs": [],
   "source": [
    "# is 1 equal to 2\n"
   ]
  },
  {
   "cell_type": "code",
   "execution_count": null,
   "metadata": {},
   "outputs": [],
   "source": [
    "# is 1 equal to 1.0\n"
   ]
  },
  {
   "cell_type": "code",
   "execution_count": null,
   "metadata": {},
   "outputs": [],
   "source": [
    "# is \"somerandomtext\" equal to \"someramdomtext\"\n"
   ]
  },
  {
   "cell_type": "code",
   "execution_count": null,
   "metadata": {},
   "outputs": [],
   "source": [
    "# is \"veryrandomthings\" not equal to \"veryrandomthings\"\n"
   ]
  },
  {
   "cell_type": "code",
   "execution_count": null,
   "metadata": {},
   "outputs": [],
   "source": [
    "# is 100 less or equal than 99\n"
   ]
  },
  {
   "cell_type": "code",
   "execution_count": null,
   "metadata": {},
   "outputs": [],
   "source": [
    "# is 50 greater than 10\n"
   ]
  },
  {
   "cell_type": "markdown",
   "metadata": {},
   "source": [
    "## Solution"
   ]
  },
  {
   "cell_type": "code",
   "execution_count": null,
   "metadata": {},
   "outputs": [],
   "source": [
    "1 == 0"
   ]
  },
  {
   "cell_type": "code",
   "execution_count": null,
   "metadata": {},
   "outputs": [],
   "source": [
    "1 == 1.0"
   ]
  },
  {
   "cell_type": "code",
   "execution_count": null,
   "metadata": {},
   "outputs": [],
   "source": [
    "\"Alvin\"  != \"Alexander\""
   ]
  },
  {
   "cell_type": "code",
   "execution_count": null,
   "metadata": {},
   "outputs": [],
   "source": [
    "\"Alvin\" != \"Alvin\""
   ]
  },
  {
   "cell_type": "code",
   "execution_count": null,
   "metadata": {},
   "outputs": [],
   "source": [
    "100 <= 10"
   ]
  },
  {
   "cell_type": "code",
   "execution_count": null,
   "metadata": {},
   "outputs": [],
   "source": [
    "50 > 10"
   ]
  },
  {
   "cell_type": "markdown",
   "metadata": {},
   "source": [
    "[Go to Table of Content](#Toc)\n",
    "<a id=\"Section08\"></a>"
   ]
  },
  {
   "cell_type": "markdown",
   "metadata": {},
   "source": [
    "---\n",
    "# How to do thing only when condition is met?\n",
    "\n",
    "If \"something\" is true \"this\", if not do \"that\"\n",
    "\n",
    "You need to follow the following basic structure:\n",
    "\n",
    "        if True Condition:      # Mandatory line\n",
    "            Do Something        # Mandatory line\n",
    "        elif True Condition:    # Optional line\n",
    "            Do Something else   # Optional line\n",
    "        else:                   # Optional line\n",
    "            Do other things     # Optional line\n",
    "\n",
    "\n",
    "### Code Example\n",
    "\n",
    "        a = 10000\n",
    "        b = 500\n",
    "        \n",
    "        if a > b:\n",
    "            print(\"a is greater than b\")\n",
    "        elif a == b:\n",
    "            print(\"a and b are equal\")\n",
    "        else:\n",
    "            print(\"b is greater than a\")"
   ]
  },
  {
   "cell_type": "markdown",
   "metadata": {},
   "source": [
    "## Do together"
   ]
  },
  {
   "cell_type": "code",
   "execution_count": null,
   "metadata": {},
   "outputs": [],
   "source": [
    "money_in_bank = 100\n",
    "money_in_pocket = 0\n",
    "\n",
    "# Case 1: Check if there is money in pocket\n"
   ]
  },
  {
   "cell_type": "code",
   "execution_count": null,
   "metadata": {},
   "outputs": [],
   "source": [
    "# Case 2: Check if money in bank is more than pocket. else opposite\n"
   ]
  },
  {
   "cell_type": "code",
   "execution_count": null,
   "metadata": {},
   "outputs": [],
   "source": [
    "# Case 3: Chek if money in pocket is more than bank else if equal or else bank more than \n"
   ]
  },
  {
   "cell_type": "markdown",
   "metadata": {},
   "source": [
    "## Solution"
   ]
  },
  {
   "cell_type": "code",
   "execution_count": null,
   "metadata": {},
   "outputs": [],
   "source": [
    "bank = 0\n",
    "pocket = 500\n",
    "\n",
    "# Case 1: Check if there is money in pocket\n",
    "if pocket != 0:\n",
    "    print(\"There is money in pocket\")\n",
    "\n",
    "# Case 2: Check if money in bank is more than pocket. else opposite\n",
    "if bank > pocket:\n",
    "    print(\"Bank more than Pocket\")\n",
    "else:\n",
    "    print(\"Pocket more than Bank\")\n",
    "\n",
    "# Case 3: Chek if money in pocket is more than bank else if equal or else bank more than\n",
    "if pocket > bank:\n",
    "    print(\"Pocket more than bank\")\n",
    "elif pocket == bank:\n",
    "    print(\"same\")\n",
    "else:\n",
    "    print(\"bank more than pocket\")"
   ]
  },
  {
   "cell_type": "markdown",
   "metadata": {},
   "source": [
    "[Go to Table of Content](#Toc)\n",
    "<a id=\"Section09\"></a>"
   ]
  },
  {
   "cell_type": "markdown",
   "metadata": {},
   "source": [
    "---\n",
    "# How to choose randomly from a list?\n",
    "\n",
    "- Sometimes it is just too difficult to make a decision to choose.\n",
    "- Sometimes random is more fun.\n",
    "\n",
    "# Need to import \"choice\" module from \"random\" package\n",
    "        from random import choice\n",
    "\n",
    "### Code Example\n",
    "        list_of_thing = [\"Ferrari\",\"Lamborgini\",\"Walking\",\"Swimming\",\"Aeroplane\"]\n",
    "        # choosing randomly\n",
    "        choice = choice(list_of_things)\n",
    "        # removing from list\n",
    "        list_of_things.remove(choice)\n"
   ]
  },
  {
   "cell_type": "markdown",
   "metadata": {},
   "source": [
    "## Do together"
   ]
  },
  {
   "cell_type": "code",
   "execution_count": null,
   "metadata": {},
   "outputs": [],
   "source": [
    "# Make a list\n",
    "restaurants = [\"Umac House\",\n",
    "              \"Subway\",\n",
    "              \"Kafe Za'ba\",\n",
    "              \"Pokok KL\",\n",
    "              \"Grafa\",\n",
    "              \"Khan\",\n",
    "              \"Tavern 13\",\n",
    "              \"Antipodean\",\n",
    "              \"Suka hati kau lah\"]\n",
    "\n",
    "# Choose from the list\n",
    "\n",
    "# Remove chosen from the list"
   ]
  },
  {
   "cell_type": "markdown",
   "metadata": {},
   "source": [
    "## Solution"
   ]
  },
  {
   "cell_type": "code",
   "execution_count": null,
   "metadata": {},
   "outputs": [],
   "source": [
    "from random import choice\n",
    "choices = list(\"abcdef\")\n",
    "\n",
    "for _ in range(len(choices)): \n",
    "    print(\"Before:\",choices)\n",
    "    my_choice = choice(choices)\n",
    "    print(\"Chosen:\",my_choice)\n",
    "    choices.remove(my_choice)\n",
    "    print(\"After :\",choices,\"\\n\")"
   ]
  },
  {
   "cell_type": "markdown",
   "metadata": {},
   "source": [
    "## Alternative Solution"
   ]
  },
  {
   "cell_type": "code",
   "execution_count": null,
   "metadata": {
    "id": "xYPX9uTqxPuI"
   },
   "outputs": [],
   "source": [
    "from random import shuffle\n",
    "# Make list\n",
    "choices = list(\"abcdef\")\n",
    "# Randomize lise\n",
    "shuffle(choices)\n",
    "temp = choices.copy()\n",
    "for choice in choices: \n",
    "    print(\"Before:\",temp)\n",
    "    print(\"Chosen:\",choice)\n",
    "    temp.remove(choice)\n",
    "    print(\"After :\",temp,\"\\n\")"
   ]
  },
  {
   "cell_type": "markdown",
   "metadata": {},
   "source": [
    "[Go to Table of Content](#Toc)\n",
    "<a id=\"Section10\"></a>"
   ]
  },
  {
   "cell_type": "markdown",
   "metadata": {},
   "source": [
    "---\n",
    "# How to Generate Folders from list & list out folder contents?\n",
    "\n",
    "### Need to import os module\n",
    "        import os\n",
    "\n",
    "### Code Example\n",
    "        # listing content of current folder\n",
    "        os.listdir()\n",
    "        # make directory\n",
    "        os.mkdir(folder)\n",
    "        # delete directory\n",
    "        os.rmdir(folder)"
   ]
  },
  {
   "cell_type": "markdown",
   "metadata": {},
   "source": [
    "## Do together"
   ]
  },
  {
   "cell_type": "code",
   "execution_count": null,
   "metadata": {},
   "outputs": [],
   "source": [
    "# Create list\n",
    "# Create folder from list\n",
    "# Rename folder"
   ]
  },
  {
   "cell_type": "markdown",
   "metadata": {},
   "source": [
    "## Solution"
   ]
  },
  {
   "cell_type": "code",
   "execution_count": null,
   "metadata": {},
   "outputs": [],
   "source": [
    "import os\n",
    "# Check current folder list\n",
    "os.listdir()"
   ]
  },
  {
   "cell_type": "code",
   "execution_count": null,
   "metadata": {},
   "outputs": [],
   "source": [
    "folders = [f\"folder_{i:02d}\" for i in range(1,11)]\n",
    "for folder in folders:\n",
    "    try:\n",
    "        os.mkdir(folder)\n",
    "    except FileExistsError:\n",
    "        print(f\"{folder} folder exists\")\n",
    "    \n",
    "os.listdir()"
   ]
  },
  {
   "cell_type": "code",
   "execution_count": null,
   "metadata": {},
   "outputs": [],
   "source": [
    "# cleanup\n",
    "for folder in folders:\n",
    "    try:\n",
    "        os.rmdir(folder)\n",
    "    except FileNotFoundError:\n",
    "        print(f\"{folder} folder not found\")\n",
    "\n",
    "print(os.listdir())"
   ]
  },
  {
   "cell_type": "markdown",
   "metadata": {},
   "source": [
    "[Go to Table of Content](#Toc)\n",
    "<a id=\"Section11\"></a>"
   ]
  },
  {
   "cell_type": "markdown",
   "metadata": {},
   "source": [
    "---\n",
    "# How to rearrange files into folders?\n",
    "\n",
    "### Need to import os module\n",
    "        import os"
   ]
  },
  {
   "cell_type": "markdown",
   "metadata": {},
   "source": [
    "## Example"
   ]
  },
  {
   "cell_type": "code",
   "execution_count": null,
   "metadata": {},
   "outputs": [],
   "source": [
    "# create dummy files with names of fruits\n",
    "fruits = [\"Apple\",\"Banana\",\"Cherry\",\"Dragon_Fruit\"]\n",
    "# Example of nested loop ()\n",
    "for fruit in fruits:\n",
    "    for i in range(1,6):\n",
    "        with open(f\"{i}_{fruit}.txt\",\"w\") as f:\n",
    "            f.write(f\"I love to eat {i} piece of {fruit}\")"
   ]
  },
  {
   "cell_type": "code",
   "execution_count": null,
   "metadata": {},
   "outputs": [],
   "source": [
    "# list out the current directory\n",
    "import os\n",
    "os.listdir()"
   ]
  },
  {
   "cell_type": "code",
   "execution_count": null,
   "metadata": {},
   "outputs": [],
   "source": [
    "# create folders with names of fruits\n",
    "for fruit in fruits:\n",
    "    os.mkdir(fruit)"
   ]
  },
  {
   "cell_type": "code",
   "execution_count": null,
   "metadata": {},
   "outputs": [],
   "source": [
    "# create folders with names of fruits. Better way.\n",
    "for fruit in fruits:\n",
    "    try:\n",
    "        os.mkdir(fruit)\n",
    "        print(f\"{fruit} folder created\")\n",
    "    except FileExistsError:\n",
    "        print(f\"{fruit} folder exists\")"
   ]
  },
  {
   "cell_type": "code",
   "execution_count": null,
   "metadata": {},
   "outputs": [],
   "source": [
    "# move files into folders\n",
    "for file in os.listdir():                                       # Loop all files in the directory\n",
    "    for fruit in fruits:                                        # loop each fruits\n",
    "        name = f\"{fruit}.txt\"                                   # name we expect in the filename\n",
    "        if name in file:                                        # check if the name is in the filename\n",
    "            os.rename(file, f\"{fruit}/{file}\")                  # moving file to folder with fruit name\n",
    "            print(\"file moved :\", file, \"=>\",f\"{fruit}/{file}\")"
   ]
  },
  {
   "cell_type": "code",
   "execution_count": null,
   "metadata": {},
   "outputs": [],
   "source": [
    "os.listdir()"
   ]
  },
  {
   "cell_type": "markdown",
   "metadata": {},
   "source": [
    "### Cleanup: Need to import shutil module\n",
    "        import shutil"
   ]
  },
  {
   "cell_type": "code",
   "execution_count": null,
   "metadata": {},
   "outputs": [],
   "source": [
    "# cleanup\n",
    "import shutil\n",
    "for fruit in fruits:\n",
    "    try:\n",
    "        shutil.rmtree(fruit)\n",
    "    except FileNotFoundError:\n",
    "        print(f\"{fruit} folder not found\")"
   ]
  },
  {
   "cell_type": "markdown",
   "metadata": {},
   "source": [
    "[Go to Table of Content](#Toc)\n",
    "<a id=\"Section12\"></a>"
   ]
  },
  {
   "cell_type": "markdown",
   "metadata": {},
   "source": [
    "---\n",
    "# How to plot list of x values and y values?\n",
    "\n",
    "### Need to import matplotlib.pyplot module\n",
    "        import matplotlib.pyplot as plt"
   ]
  },
  {
   "cell_type": "markdown",
   "metadata": {},
   "source": [
    "## Example"
   ]
  },
  {
   "cell_type": "code",
   "execution_count": null,
   "metadata": {},
   "outputs": [],
   "source": [
    "# in this example y = x squared\n",
    "x = list(range(1,11)) # this is equivalent to [1,2,3,4,5,6,7,8,9,10]\n",
    "y = [i**2 for i in x] # this is equivalent to [1, 4, 9, 16, 25, 36, 49, 64, 81, 100]"
   ]
  },
  {
   "cell_type": "code",
   "execution_count": null,
   "metadata": {},
   "outputs": [],
   "source": [
    "import matplotlib.pyplot as plt\n",
    "\n",
    "plt.figure(figsize=(10,5))\n",
    "plt.plot(x,y)\n",
    "plt.show()"
   ]
  },
  {
   "cell_type": "code",
   "execution_count": null,
   "metadata": {},
   "outputs": [],
   "source": [
    "# try plot scatter plot for any 4 number pairs.\n",
    "x = [1,5,49,100]\n",
    "y = [-5,40,10,50]\n",
    "\n",
    "plt.figure(figsize=(10,5))\n",
    "plt.scatter(x,y)\n",
    "plt.show()"
   ]
  },
  {
   "cell_type": "markdown",
   "metadata": {},
   "source": [
    "## Do together"
   ]
  },
  {
   "cell_type": "code",
   "execution_count": null,
   "metadata": {},
   "outputs": [],
   "source": []
  },
  {
   "cell_type": "code",
   "execution_count": null,
   "metadata": {},
   "outputs": [],
   "source": [
    "# try plot straight line y = x + 2"
   ]
  },
  {
   "cell_type": "code",
   "execution_count": null,
   "metadata": {},
   "outputs": [],
   "source": [
    "# try plot y = square root x for x in range 1 to 100"
   ]
  },
  {
   "cell_type": "markdown",
   "metadata": {},
   "source": [
    "Sigmoid equation\n",
    "\n",
    "![Sigmoid.svg](Sigmoid.svg)"
   ]
  },
  {
   "cell_type": "code",
   "execution_count": null,
   "metadata": {},
   "outputs": [],
   "source": [
    "# try plot y = x sigmoid for x in range -10 to 10"
   ]
  },
  {
   "cell_type": "markdown",
   "metadata": {},
   "source": [
    "## Solution"
   ]
  },
  {
   "cell_type": "code",
   "execution_count": null,
   "metadata": {},
   "outputs": [],
   "source": [
    "# try plot straight line y = x + 2\n",
    "x = list(range(1,100))\n",
    "y = [i + 2 for i in x]\n",
    "\n",
    "plt.figure(figsize=(10,5))\n",
    "plt.plot(x,y)\n",
    "plt.show()"
   ]
  },
  {
   "cell_type": "code",
   "execution_count": null,
   "metadata": {},
   "outputs": [],
   "source": [
    "# try plot y = square root x for x in range 1 to 100\n",
    "x = list(range(1,100))\n",
    "y = [i**(0.5) for i in x]\n",
    "\n",
    "plt.figure(figsize=(10,5))\n",
    "plt.plot(x,y)\n",
    "plt.show()"
   ]
  },
  {
   "cell_type": "code",
   "execution_count": null,
   "metadata": {},
   "outputs": [],
   "source": [
    "# try plot y = x sigmoid for x in range -10 to 10\n",
    "import math\n",
    "x = list(range(-10,10))\n",
    "y = [1/(1+math.exp(-i)) for i in x]\n",
    "\n",
    "plt.figure(figsize=(10,5))\n",
    "plt.plot(x,y)\n",
    "plt.show()"
   ]
  },
  {
   "cell_type": "markdown",
   "metadata": {},
   "source": [
    "[Go to Table of Content](#Toc)\n",
    "<a id=\"Section13\"></a>"
   ]
  },
  {
   "cell_type": "markdown",
   "metadata": {},
   "source": [
    "---\n",
    "# How to download things from the internet\n",
    "\n",
    "### Need to import requests module\n",
    "        import requests\n",
    "        \n",
    "### Code Example\n",
    "        url = \"https://website.com/specific_file.extension\"\n",
    "        request = requests.get(url, allow_redirects=True)\n",
    "        open(\"specific_file.extension\", 'wb').write(request.content)"
   ]
  },
  {
   "cell_type": "markdown",
   "metadata": {},
   "source": [
    "## Do together"
   ]
  },
  {
   "cell_type": "code",
   "execution_count": null,
   "metadata": {},
   "outputs": [],
   "source": [
    "import requests\n",
    "# find some link to any file online\n",
    "url = \"link_to_file\"\n",
    "# your code here\n"
   ]
  },
  {
   "cell_type": "markdown",
   "metadata": {},
   "source": [
    "[Go to Table of Content](#Toc)\n",
    "<a id=\"Section14\"></a>"
   ]
  },
  {
   "cell_type": "markdown",
   "metadata": {},
   "source": [
    "---\n",
    "# How to manipulate image?\n",
    "\n",
    "## What is an image?\n",
    "Most common are two types which are color images and monochromatic image.\n",
    "\n",
    "For any pixel based image each \"box\" of pixel can carry information either color or monochormatic.\n",
    "\n",
    "Image is an array of pixels containing information of color.\n",
    "\n",
    "![RGB.png](RGB.png)\n",
    "\n",
    "This is example of RGB mix for typical color image.\n",
    "\n",
    "This color system is called additive color hence when add all become white.\n",
    "\n",
    "As you can see it has 3 channel Red Green Blue with 8-bit per channel data for total of 24-bit per pixels.\n",
    "\n",
    "\n",
    "In this example we are going to do following:\n",
    "1. Show the image in Notebook\n",
    "2. Find edges in image\n",
    "3. Gaussian Blur\n",
    "4. Extract Channel (red, green, blue)\n",
    "5. Change to grayscale\n",
    "6. Add contrast\n",
    "\n",
    "If you think of it, it is not really useful to edit/manipulate one image using this.\n",
    "\n",
    "However, when you have 100 or 1000 images than this automation would save a lot of time.\n",
    "\n",
    "### Need to import cv2, matplotlib.pyplot, numpy\n",
    "        import cv2\n",
    "        import matplotlib.pyplot as plt\n",
    "        import numpy as np"
   ]
  },
  {
   "cell_type": "markdown",
   "metadata": {},
   "source": [
    "## Examples"
   ]
  },
  {
   "cell_type": "code",
   "execution_count": null,
   "metadata": {},
   "outputs": [],
   "source": [
    "# Get picture\n",
    "import requests,os\n",
    "# try look for any image links online maybe https://mars.nasa.gov/mars2020/multimedia/raw-images/image-of-the-week/\n",
    "url = \"https://mars.nasa.gov/mars2020-raw-images/pub/ods/surface/sol/00067/ids/edr/browse/zcam/ZL0_0067_0672885164_601ECM_N0032208ZCAM05048_110050J04.png\"\n",
    "request = requests.get(url, allow_redirects=True)\n",
    "open(\"picture.jpg\", 'wb').write(request.content)\n",
    "os.listdir()"
   ]
  },
  {
   "cell_type": "code",
   "execution_count": null,
   "metadata": {},
   "outputs": [],
   "source": [
    "import cv2\n",
    "import matplotlib.pyplot as plt\n",
    "import numpy as np\n",
    "%matplotlib inline\n",
    "img_ori = cv2.imread(\"picture.jpg\")\n",
    "img = cv2.cvtColor(img_ori, cv2.COLOR_BGR2RGB) # default cv2 loads as BGR, we change to RGB\n",
    "plt.figure(figsize = (20,10))\n",
    "plt.imshow(img)\n",
    "plt.show()"
   ]
  },
  {
   "cell_type": "code",
   "execution_count": null,
   "metadata": {},
   "outputs": [],
   "source": [
    "print(img.shape) # (height,width,RGB channel) or (x,y,z)\n",
    "\n",
    "# what is image?\n",
    "# matrices of red, green, blue stacked"
   ]
  },
  {
   "cell_type": "code",
   "execution_count": null,
   "metadata": {},
   "outputs": [],
   "source": [
    "# lets crop small portion\n",
    "plt.figure(figsize = (20,10))\n",
    "plt.imshow(img[90:220,100:340,])"
   ]
  },
  {
   "cell_type": "code",
   "execution_count": null,
   "metadata": {},
   "outputs": [],
   "source": [
    "# edge detection\n",
    "plt.figure(figsize = (20,10))\n",
    "# edges = cv2.Canny(img,100,200,apertureSize = 3)\n",
    "edges = cv2.Canny(cv2.cvtColor(img, cv2.COLOR_BGR2GRAY),200,300,apertureSize = 3)\n",
    "plt.imshow(edges)"
   ]
  },
  {
   "cell_type": "code",
   "execution_count": null,
   "metadata": {},
   "outputs": [],
   "source": [
    "# Gaussian Blur\n",
    "plt.figure(figsize = (20,10))\n",
    "plt.imshow(cv2.GaussianBlur(img, (51,51), 0))"
   ]
  },
  {
   "cell_type": "code",
   "execution_count": null,
   "metadata": {},
   "outputs": [],
   "source": [
    "# take only one channel\n",
    "colors = ['Reds','Greens','Blues']\n",
    "for i,c in enumerate(colors):\n",
    "    plt.figure(figsize = (20,2))\n",
    "    plt.imshow(img[:,:,i],cmap=c)\n",
    "    plt.show()"
   ]
  },
  {
   "cell_type": "code",
   "execution_count": null,
   "metadata": {},
   "outputs": [],
   "source": [
    "# change to grayscale meaning there will only be one channel\n",
    "plt.figure(figsize = (20,10))\n",
    "plt.imshow(cv2.cvtColor(img, cv2.COLOR_RGB2GRAY),cmap='Reds')"
   ]
  },
  {
   "cell_type": "code",
   "execution_count": null,
   "metadata": {},
   "outputs": [],
   "source": [
    "# add contrast\n",
    "plt.figure(figsize = (20,10))\n",
    "plt.imshow(cv2.addWeighted(img, 5, np.zeros(img.shape, img.dtype), 0, 0))"
   ]
  },
  {
   "cell_type": "markdown",
   "metadata": {},
   "source": [
    "[Go to Table of Content](#Toc)\n",
    "<a id=\"Section15\"></a>"
   ]
  },
  {
   "cell_type": "markdown",
   "metadata": {},
   "source": [
    "---\n",
    "# How to load Excel file into Python for further analysis?\n",
    "\n",
    "### Need to import pandas module\n",
    "        import pandas as pd"
   ]
  },
  {
   "cell_type": "markdown",
   "metadata": {},
   "source": [
    "## Example"
   ]
  },
  {
   "cell_type": "code",
   "execution_count": null,
   "metadata": {},
   "outputs": [],
   "source": [
    "import requests,os\n",
    "file = \"heart_failure_clinical_records_dataset.xlsx\"\n",
    "\n",
    "if not os.path.exists(file):\n",
    "    # Downloading data to local\n",
    "    url = f\"https://github.com/elvinado/Problem-Solving-Kit/raw/main/{file}\"\n",
    "    request = requests.get(url, allow_redirects=True)\n",
    "    open(file, 'wb').write(request.content)\n",
    "    print(f\"{file} downloaded.\")\n",
    "else:\n",
    "    print(f\"{file} exists.\")"
   ]
  },
  {
   "cell_type": "code",
   "execution_count": null,
   "metadata": {},
   "outputs": [],
   "source": [
    "import pandas as pd\n",
    "df = pd.read_excel(file)"
   ]
  },
  {
   "cell_type": "code",
   "execution_count": null,
   "metadata": {},
   "outputs": [],
   "source": [
    "df.head()"
   ]
  },
  {
   "cell_type": "code",
   "execution_count": null,
   "metadata": {},
   "outputs": [],
   "source": [
    "df.info()"
   ]
  },
  {
   "cell_type": "code",
   "execution_count": null,
   "metadata": {},
   "outputs": [],
   "source": [
    "df.describe()"
   ]
  },
  {
   "cell_type": "markdown",
   "metadata": {},
   "source": [
    "[Go to Table of Content](#Toc)\n",
    "<a id=\"Section16\"></a>"
   ]
  },
  {
   "cell_type": "markdown",
   "metadata": {},
   "source": [
    "---\n",
    "# How to investigate table of data?\n",
    "\n",
    "As the saying goes, \"There are more than one way to skin a cat\""
   ]
  },
  {
   "cell_type": "markdown",
   "metadata": {},
   "source": [
    "## Example"
   ]
  },
  {
   "cell_type": "code",
   "execution_count": null,
   "metadata": {},
   "outputs": [],
   "source": [
    "file2 = \"Womens Clothing E-Commerce Reviews.csv\"\n",
    "\n",
    "if not os.path.exists(file2):\n",
    "    # Downloading data to local\n",
    "    url = f\"https://github.com/elvinado/Problem-Solving-Kit/raw/main/{file2}\"\n",
    "    request = requests.get(url, allow_redirects=True)\n",
    "    open(file2, 'wb').write(request.content)\n",
    "    print(f\"{file2} downloaded.\")\n",
    "else:\n",
    "    print(f\"{file2} exists.\")"
   ]
  },
  {
   "cell_type": "code",
   "execution_count": null,
   "metadata": {},
   "outputs": [],
   "source": [
    "df2 = pd.read_csv(file2,index_col=0)"
   ]
  },
  {
   "cell_type": "markdown",
   "metadata": {},
   "source": [
    "### What are the first 5 rows fo data looks like?"
   ]
  },
  {
   "cell_type": "code",
   "execution_count": null,
   "metadata": {},
   "outputs": [],
   "source": [
    "df2.head()"
   ]
  },
  {
   "cell_type": "markdown",
   "metadata": {},
   "source": [
    "### What are the names of columns of the table?"
   ]
  },
  {
   "cell_type": "code",
   "execution_count": null,
   "metadata": {},
   "outputs": [],
   "source": [
    "df2.columns"
   ]
  },
  {
   "cell_type": "markdown",
   "metadata": {},
   "source": [
    "### How many unique values for each columns?"
   ]
  },
  {
   "cell_type": "code",
   "execution_count": null,
   "metadata": {},
   "outputs": [],
   "source": [
    "df2.nunique()"
   ]
  },
  {
   "cell_type": "markdown",
   "metadata": {},
   "source": [
    "### How many items are there for Division, Department, Class?"
   ]
  },
  {
   "cell_type": "code",
   "execution_count": null,
   "metadata": {},
   "outputs": [],
   "source": [
    "df2[['Clothing ID','Department Name','Division Name','Class Name']].groupby(['Division Name','Department Name','Class Name']).count()"
   ]
  },
  {
   "cell_type": "markdown",
   "metadata": {},
   "source": [
    "### For each division what are the rating of the items?"
   ]
  },
  {
   "cell_type": "code",
   "execution_count": null,
   "metadata": {},
   "outputs": [],
   "source": [
    "df2[['Clothing ID','Rating','Division Name']].groupby(['Division Name','Rating']).count()"
   ]
  },
  {
   "cell_type": "code",
   "execution_count": null,
   "metadata": {},
   "outputs": [],
   "source": [
    "df2[['Clothing ID','Rating']].groupby(['Rating']).count()"
   ]
  },
  {
   "cell_type": "code",
   "execution_count": null,
   "metadata": {},
   "outputs": [],
   "source": [
    "df2[['Clothing ID','Rating']].groupby(['Rating']).count().plot.bar()"
   ]
  },
  {
   "cell_type": "markdown",
   "metadata": {},
   "source": [
    "[Go to Table of Content](#Toc)\n",
    "<a id=\"Section17\"></a>"
   ]
  },
  {
   "cell_type": "markdown",
   "metadata": {},
   "source": [
    "---\n",
    "# How to search specific text from many text files?"
   ]
  },
  {
   "cell_type": "code",
   "execution_count": null,
   "metadata": {},
   "outputs": [],
   "source": [
    "try:\n",
    "    import lorem\n",
    "except:\n",
    "    !pip install lorem\n",
    "    import lorem"
   ]
  },
  {
   "cell_type": "code",
   "execution_count": null,
   "metadata": {},
   "outputs": [],
   "source": [
    "import os,random\n",
    "\n",
    "# Generate dummy texts\n",
    "if not os.path.exists(\"texts\"):\n",
    "    os.makedirs(\"texts\")\n",
    "\n",
    "hidden_message = \"FIND ME!!!\\n\\n\"\n",
    "correct_answers = []\n",
    "for i in range(1,51):\n",
    "    with open(f\"texts/text_{i:02d}.txt\",\"w\",encoding = 'utf-8') as f:\n",
    "        if random.choice([True,False]):\n",
    "            f.write(hidden_message)\n",
    "            correct_answers.append(f\"text_{i:02d}.txt\")\n",
    "        f.write(lorem.text())\n",
    "        \n",
    "\n",
    "print(correct_answers)"
   ]
  },
  {
   "cell_type": "code",
   "execution_count": null,
   "metadata": {},
   "outputs": [],
   "source": [
    "# find hidden message in dummy texts\n",
    "predicted_answers = []\n",
    "files = os.listdir(\"texts\")\n",
    "for file in files:\n",
    "    with open(f\"texts/{file}\",\"r\") as f:\n",
    "        text = f.read()\n",
    "        if hidden_message in text:\n",
    "            predicted_answers.append(file)\n",
    "\n",
    "print(predicted_answers)"
   ]
  },
  {
   "cell_type": "code",
   "execution_count": null,
   "metadata": {},
   "outputs": [],
   "source": [
    "# compare answers (simplistic)\n",
    "sorted(correct_answers) == sorted(predicted_answers)"
   ]
  },
  {
   "cell_type": "code",
   "execution_count": null,
   "metadata": {},
   "outputs": [],
   "source": [
    "# clean up\n",
    "try:\n",
    "    files = os.listdir(\"texts\")\n",
    "    for file in files:\n",
    "        os.remove(f\"texts/{file}\")\n",
    "    os.rmdir(\"texts\")\n",
    "except FileNotFoundError:\n",
    "    pass"
   ]
  },
  {
   "cell_type": "markdown",
   "metadata": {},
   "source": [
    "[Go to Table of Content](#Toc)\n",
    "<a id=\"Section18\"></a>"
   ]
  },
  {
   "cell_type": "markdown",
   "metadata": {},
   "source": [
    "---\n",
    "# How to do Fizz Buzz problem?"
   ]
  },
  {
   "cell_type": "code",
   "execution_count": null,
   "metadata": {},
   "outputs": [],
   "source": [
    "fizz = 2\n",
    "buzz = 5\n",
    "for i in range(1,16):\n",
    "    result = \"\"\n",
    "    if i%fizz == 0:\n",
    "        result = result + \"Fizz\"\n",
    "    if i%buzz == 0:\n",
    "        result = result + \"Buzz\"\n",
    "    if result == \"\":\n",
    "        result = i\n",
    "    print(i,\":\",result)"
   ]
  },
  {
   "cell_type": "markdown",
   "metadata": {},
   "source": [
    "# Solve this puzzle"
   ]
  },
  {
   "cell_type": "code",
   "execution_count": null,
   "metadata": {},
   "outputs": [],
   "source": [
    "# this is Zen of Python\n",
    "import this"
   ]
  },
  {
   "cell_type": "code",
   "execution_count": null,
   "metadata": {},
   "outputs": [],
   "source": [
    "# However when you see into it, the content is scrambled\n",
    "print(this.s)"
   ]
  },
  {
   "cell_type": "code",
   "execution_count": null,
   "metadata": {},
   "outputs": [],
   "source": [
    "# Method 1\n",
    "string = \"\"\n",
    "for c in this.s:\n",
    "    try:\n",
    "        replacement = this.d[c]\n",
    "    except KeyError:\n",
    "        replacement = c\n",
    "    \n",
    "    string += c.replace(c,replacement)\n",
    "\n",
    "print(string)"
   ]
  },
  {
   "cell_type": "code",
   "execution_count": null,
   "metadata": {},
   "outputs": [],
   "source": [
    "# Method 2\n",
    "temp = []\n",
    "for c in this.s:\n",
    "    temp.append(this.d.get(c, c))\n",
    "print(\"\".join(temp))"
   ]
  },
  {
   "cell_type": "code",
   "execution_count": null,
   "metadata": {},
   "outputs": [],
   "source": [
    "# Method 3\n",
    "print(\"\".join([this.d.get(c, c) for c in this.s]))"
   ]
  },
  {
   "cell_type": "markdown",
   "metadata": {},
   "source": [
    "[Go to Table of Content](#Toc)\n",
    "<a id=\"Section19\"></a>"
   ]
  },
  {
   "cell_type": "markdown",
   "metadata": {},
   "source": [
    "---\n",
    "# How to check the impact of decimal places to the mean value?"
   ]
  },
  {
   "cell_type": "code",
   "execution_count": null,
   "metadata": {},
   "outputs": [],
   "source": [
    "# Random Normal 2 decimal vs 3 decimal\n",
    "from numpy import random\n",
    "import statistics as st\n",
    "import matplotlib.pyplot as plt\n",
    "import seaborn as sns\n",
    "\n",
    "x = [round(i,ndigits=3) for i in random.normal(2,scale=0.01,size=[10])]\n",
    "y = [round(i,ndigits=2) for i in x]\n",
    "\n",
    "plt.figure(figsize=(30,5))\n",
    "sns.kdeplot(x,color='b')\n",
    "plt.axvline(st.mean(x),color='b')\n",
    "sns.kdeplot(y,color='r')\n",
    "plt.axvline(st.mean(y),color='r')\n",
    "plt.title(round(st.mean(y)-st.mean(x),4))\n",
    "plt.show()"
   ]
  },
  {
   "cell_type": "markdown",
   "metadata": {},
   "source": [
    "[Go to Table of Content](#Toc)\n",
    "<a id=\"Section20\"></a>"
   ]
  },
  {
   "cell_type": "markdown",
   "metadata": {},
   "source": [
    "---\n",
    "# How to Extract image frame from any video?"
   ]
  },
  {
   "cell_type": "code",
   "execution_count": null,
   "metadata": {},
   "outputs": [],
   "source": [
    "video_file = \"sample_video.mp4\"\n",
    "\n",
    "if not os.path.exists(video_file):\n",
    "    # Downloading data to local\n",
    "    url = f\"https://github.com/elvinado/Problem-Solving-Kit/raw/main/{video_file}\"\n",
    "    request = requests.get(url, allow_redirects=True)\n",
    "    open(video_file, 'wb').write(request.content)\n",
    "    print(f\"{video_file} downloaded.\")\n",
    "else:\n",
    "    print(f\"{video_file} exists.\")"
   ]
  },
  {
   "cell_type": "code",
   "execution_count": null,
   "metadata": {},
   "outputs": [],
   "source": [
    "import cv2\n",
    "\n",
    "# define video file path and then capture\n",
    "video_file = \"sample_video.mp4\"\n",
    "capture = cv2.VideoCapture(video_file)\n",
    "\n",
    "# a little mathematics to convert seconds to frame\n",
    "second_you_want = 10\n",
    "frame_you_want = capture.get(cv2.CAP_PROP_FPS) * second_you_want\n",
    "# set Position Frame to capture property\n",
    "capture.set(cv2.CAP_PROP_POS_FRAMES,frame_you_want)\n",
    "\n",
    "# read the first frame\n",
    "return_value, frame = capture.read()\n",
    "\n",
    "# save the frame you want to a file\n",
    "cv2.imwrite(\"output.jpg\",frame)\n",
    "\n",
    "# Housekeeping\n",
    "capture.release()\n",
    "cv2.destroyAllWindows()\n",
    "\n",
    "# Display the image extracted\n",
    "import matplotlib.pyplot as plt\n",
    "\n",
    "plt.figure(figsize=(15,10))\n",
    "plt.imshow(cv2.cvtColor(cv2.imread(\"output.jpg\"), cv2.COLOR_BGR2RGB))\n",
    "plt.show()"
   ]
  },
  {
   "cell_type": "markdown",
   "metadata": {},
   "source": [
    "[Go to Table of Content](#Toc)\n",
    "<a id=\"Section21\"></a>"
   ]
  },
  {
   "cell_type": "markdown",
   "metadata": {},
   "source": [
    "---\n",
    "# Read table online and basic data exploration"
   ]
  },
  {
   "cell_type": "code",
   "execution_count": null,
   "metadata": {},
   "outputs": [],
   "source": [
    "import pandas as pd\n",
    "import requests\n",
    "import re\n",
    "# install if Import Error\n",
    "# !pip install lxml\n",
    "# !pip install html5lib\n",
    "# !pip install beautifulsoup4"
   ]
  },
  {
   "cell_type": "markdown",
   "metadata": {},
   "source": [
    "## World Coronavirus Table"
   ]
  },
  {
   "cell_type": "code",
   "execution_count": null,
   "metadata": {},
   "outputs": [],
   "source": [
    "url = \"https://www.worldometers.info/coronavirus/\"\n",
    "\n",
    "# to get this can go to chrome inspects > Network > Click any in the Name > Headers > Request Headers > User-Agent > Right Click copy\n",
    "# header used here to impersonate a browser\n",
    "header = {\"User-Agent\": \"Mozilla/5.0 (Windows NT 10.0; Win64; x64) AppleWebKit/537.36 (KHTML, like Gecko) Chrome/90.0.4430.93 Safari/537.36\"}\n",
    "\n",
    "# this line is to download the html text from the website\n",
    "html_source = requests.get(url, headers=header).text\n",
    "\n",
    "# This line is to substitute all HTML tags <...> to uppercase.\n",
    "html_source = re.sub(r'<.*?>', lambda g: g.group(0).upper(), html_source)\n",
    "\n",
    "# this line is to read the first table found hence index 0.\n",
    "df = pd.read_html(html_source)[0]"
   ]
  },
  {
   "cell_type": "code",
   "execution_count": null,
   "metadata": {},
   "outputs": [],
   "source": [
    "df.columns"
   ]
  },
  {
   "cell_type": "markdown",
   "metadata": {},
   "source": [
    "### Pre-processing"
   ]
  },
  {
   "cell_type": "code",
   "execution_count": null,
   "metadata": {},
   "outputs": [],
   "source": [
    "# Remove rows that are total\n",
    "df = df[df[\"Country,Other\"] != \"Total:\"]"
   ]
  },
  {
   "cell_type": "code",
   "execution_count": null,
   "metadata": {},
   "outputs": [],
   "source": [
    "continent_df = df[df[\"Country,Other\"].isin([\"Europe\",\"Asia\",\"North America\",\"South America\"])]\n",
    "country_df = df[~df[\"Country,Other\"].isin([\"World\",\"Europe\",\"Asia\",\"North America\",\"South America\"])]"
   ]
  },
  {
   "cell_type": "markdown",
   "metadata": {},
   "source": [
    "### Continent cases"
   ]
  },
  {
   "cell_type": "code",
   "execution_count": null,
   "metadata": {},
   "outputs": [],
   "source": [
    "continent_df.sort_values(by=\"TotalCases\",ascending=False)"
   ]
  },
  {
   "cell_type": "code",
   "execution_count": null,
   "metadata": {},
   "outputs": [],
   "source": [
    "continent_df.sort_values(by=\"ActiveCases\",ascending=False).plot.bar(\"Country,Other\",\"ActiveCases\")"
   ]
  },
  {
   "cell_type": "markdown",
   "metadata": {},
   "source": [
    "### Top 10 asian countries"
   ]
  },
  {
   "cell_type": "code",
   "execution_count": null,
   "metadata": {},
   "outputs": [],
   "source": [
    "country_df[country_df[\"Continent\"] == \"Asia\"].sort_values(by=\"TotalCases\",ascending=False).head(10)"
   ]
  },
  {
   "cell_type": "code",
   "execution_count": null,
   "metadata": {},
   "outputs": [],
   "source": [
    "country_df[country_df[\"Continent\"] == \"Asia\"].sort_values(by=\"TotalCases\",ascending=False).head(10).plot.bar(\"Country,Other\",\"TotalCases\")"
   ]
  },
  {
   "cell_type": "code",
   "execution_count": null,
   "metadata": {},
   "outputs": [],
   "source": [
    "country_df[country_df[\"Continent\"] == \"Asia\"].sort_values(by=\"TotalTests\",ascending=False).head(10).plot.bar(\"Country,Other\",\"TotalTests\")"
   ]
  },
  {
   "cell_type": "code",
   "execution_count": null,
   "metadata": {},
   "outputs": [],
   "source": [
    "# Country with best record so far.\n",
    "country_df[country_df[\"Continent\"] == \"Asia\"].sort_values(by=\"1 Deathevery X ppl\",ascending=False).head(10).plot.bar(\"Country,Other\",\"1 Deathevery X ppl\")"
   ]
  },
  {
   "cell_type": "code",
   "execution_count": null,
   "metadata": {},
   "outputs": [],
   "source": []
  },
  {
   "cell_type": "markdown",
   "metadata": {},
   "source": [
    "## Deparment of Statistics for \"Selangor at a glance\""
   ]
  },
  {
   "cell_type": "code",
   "execution_count": null,
   "metadata": {},
   "outputs": [],
   "source": [
    "url2 = \"https://www.dosm.gov.my/v1/index.php?r=column/cone&menu_id=eGUyTm9RcEVZSllmYW45dmpnZHh4dz09\"\n",
    "html_source = requests.get(url2, headers=header).text\n",
    "html_source = re.sub(r'<.*?>', lambda g: g.group(0).upper(), html_source)\n",
    "df2 = pd.read_html(html_source)[0]"
   ]
  },
  {
   "cell_type": "markdown",
   "metadata": {},
   "source": [
    "### Pre-processing"
   ]
  },
  {
   "cell_type": "code",
   "execution_count": null,
   "metadata": {},
   "outputs": [],
   "source": [
    "columns = [\"Item\",\"2016\",\"2017\",\"2018\",\"2019\"]\n",
    "df2 = df2.loc[2:,1:5]\n",
    "df2.columns = columns\n",
    "df2"
   ]
  },
  {
   "cell_type": "code",
   "execution_count": null,
   "metadata": {},
   "outputs": [],
   "source": [
    "# Labour Force\n",
    "df2[df2[\"Item\"] == \"Labour Force ('000)\"].iloc[:,1:].transpose().astype('float').apply(lambda x:x*1000).plot()"
   ]
  },
  {
   "cell_type": "code",
   "execution_count": null,
   "metadata": {},
   "outputs": [],
   "source": [
    "# Employed\n",
    "df2.iloc[22,1:].astype('float').apply(lambda x:x*1000).plot()"
   ]
  },
  {
   "cell_type": "code",
   "execution_count": null,
   "metadata": {},
   "outputs": [],
   "source": [
    "# Unemployed\n",
    "df2[df2[\"Item\"] == \"Unemployed ('000)\"].iloc[:,1:].transpose().astype('float').apply(lambda x:x*1000).plot()"
   ]
  },
  {
   "cell_type": "markdown",
   "metadata": {},
   "source": [
    "## Malaysia Sensus Data"
   ]
  },
  {
   "cell_type": "code",
   "execution_count": null,
   "metadata": {},
   "outputs": [],
   "source": [
    "url3 = \"https://www.mycensus.gov.my/\"\n",
    "html_source = requests.get(url3, headers=header).text\n",
    "html_source = re.sub(r'<.*?>', lambda g: g.group(0).upper(), html_source)\n",
    "df_2020 = pd.read_html(html_source)[0]\n",
    "df_2010 = pd.read_html(html_source)[1]\n",
    "df_2000 = pd.read_html(html_source)[2]"
   ]
  },
  {
   "cell_type": "code",
   "execution_count": null,
   "metadata": {},
   "outputs": [],
   "source": [
    "def make_nice(df):\n",
    "    \"\"\" Custom function to transform original table to more useful one\"\"\"\n",
    "    df = df.loc[1:,1:]\n",
    "    df.columns = [\"Category\",\"Citizen\",\"Non-Citizen\"]\n",
    "    df = df.set_index(\"Category\")\n",
    "    return df"
   ]
  },
  {
   "cell_type": "code",
   "execution_count": null,
   "metadata": {},
   "outputs": [],
   "source": [
    "df_2020 = make_nice(df_2020)\n",
    "df_2020"
   ]
  },
  {
   "cell_type": "code",
   "execution_count": null,
   "metadata": {},
   "outputs": [],
   "source": [
    "df_2010 = make_nice(df_2010)\n",
    "df_2010"
   ]
  },
  {
   "cell_type": "code",
   "execution_count": null,
   "metadata": {},
   "outputs": [],
   "source": [
    "df_2000 = make_nice(df_2000)\n",
    "df_2000"
   ]
  },
  {
   "cell_type": "code",
   "execution_count": null,
   "metadata": {},
   "outputs": [],
   "source": [
    "full_df = pd.concat([df_2000,df_2010,df_2020],axis=1,keys = [\"2000\",\"2010\",\"2020\"])\n",
    "full_df"
   ]
  },
  {
   "cell_type": "code",
   "execution_count": null,
   "metadata": {},
   "outputs": [],
   "source": [
    "def number_word_converter(x):\n",
    "    if \" milion\" in x:\n",
    "        x = x.replace(\" milion\",\"\")\n",
    "        x = float(x)\n",
    "        x = x * 1_000_000\n",
    "    elif \" million\" in x:\n",
    "        x = x.replace(\" million\",\"\")\n",
    "        x = float(x)\n",
    "        x = x * 1_000_000\n",
    "    elif \" thousand\" in x:\n",
    "        x = x.replace(\" thousand\",\"\")\n",
    "        x = float(x)\n",
    "        x = x * 1_000\n",
    "#     else:\n",
    "#         raise Exception(\"Sorry, keyword not found\")\n",
    "    return x\n",
    "new_df = full_df.applymap(lambda x:number_word_converter(x))\n",
    "new_df"
   ]
  },
  {
   "cell_type": "code",
   "execution_count": null,
   "metadata": {},
   "outputs": [],
   "source": [
    "# changing the order of the multiindex\n",
    "tuples = [('Citizen','2000'),('Non-Citizen','2000'),('Citizen','2010'),('Non-Citizen','2010'),('Citizen','2020'),('Non-Citizen','2020')]\n",
    "new_df.columns = pd.MultiIndex.from_tuples(tuples)"
   ]
  },
  {
   "cell_type": "code",
   "execution_count": null,
   "metadata": {},
   "outputs": [],
   "source": [
    "new_df[\"Citizen\"].transpose().plot()"
   ]
  },
  {
   "cell_type": "code",
   "execution_count": null,
   "metadata": {},
   "outputs": [],
   "source": [
    "new_df[\"Non-Citizen\"].transpose().plot()"
   ]
  },
  {
   "cell_type": "code",
   "execution_count": null,
   "metadata": {},
   "outputs": [],
   "source": [
    "# mislable thousand as million in the original data, so we fix it here\n",
    "new_df.loc[\"Urbanization\"].loc[\"Non-Citizen\",\"2000\"] = new_df.loc[\"Urbanization\"].loc[\"Non-Citizen\",\"2000\"]/1000"
   ]
  },
  {
   "cell_type": "code",
   "execution_count": null,
   "metadata": {},
   "outputs": [],
   "source": [
    "new_df[\"Non-Citizen\"].transpose().plot()"
   ]
  },
  {
   "cell_type": "code",
   "execution_count": null,
   "metadata": {},
   "outputs": [],
   "source": []
  }
 ],
 "metadata": {
  "colab": {
   "authorship_tag": "ABX9TyPcQaGXE3tYXUzmivbrZNMZ",
   "include_colab_link": true,
   "name": "Python-Problem-Solving-Kit.ipynb",
   "provenance": []
  },
  "kernelspec": {
   "display_name": "Python 3",
   "language": "python",
   "name": "python3"
  },
  "language_info": {
   "codemirror_mode": {
    "name": "ipython",
    "version": 3
   },
   "file_extension": ".py",
   "mimetype": "text/x-python",
   "name": "python",
   "nbconvert_exporter": "python",
   "pygments_lexer": "ipython3",
   "version": "3.8.6"
  }
 },
 "nbformat": 4,
 "nbformat_minor": 4
}
