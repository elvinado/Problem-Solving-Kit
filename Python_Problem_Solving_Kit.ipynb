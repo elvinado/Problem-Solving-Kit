{
  "nbformat": 4,
  "nbformat_minor": 0,
  "metadata": {
    "colab": {
      "name": "Python-Problem-Solving-Kit.ipynb",
      "provenance": [],
      "authorship_tag": "ABX9TyPcQaGXE3tYXUzmivbrZNMZ",
      "include_colab_link": true
    },
    "kernelspec": {
      "name": "python3",
      "display_name": "Python 3"
    }
  },
  "cells": [
    {
      "cell_type": "markdown",
      "metadata": {
        "id": "view-in-github",
        "colab_type": "text"
      },
      "source": [
        "<a href=\"https://colab.research.google.com/github/elvinado/Problem-Solving-Kit/blob/main/Python_Problem_Solving_Kit.ipynb\" target=\"_parent\"><img src=\"https://colab.research.google.com/assets/colab-badge.svg\" alt=\"Open In Colab\"/></a>"
      ]
    },
    {
      "cell_type": "code",
      "metadata": {
        "id": "xYPX9uTqxPuI"
      },
      "source": [
        "import random\r\n",
        "def select_problem(problems):\r\n",
        "    \"\"\"\r\n",
        "    input\r\n",
        "        problems - list of problems\r\n",
        "    \r\n",
        "    return\r\n",
        "        problem - selected problem\r\n",
        "    \"\"\"\r\n",
        "    if problems:\r\n",
        "        problem = random.choice(problems)\r\n",
        "        problems.remove(problem)\r\n",
        "    else:\r\n",
        "        problem = None\r\n",
        "    return problem"
      ],
      "execution_count": 1,
      "outputs": []
    },
    {
      "cell_type": "code",
      "metadata": {
        "id": "LLW51vjhztc1",
        "outputId": "524edd41-1b61-4384-91fe-0ea0270c1ad5",
        "colab": {
          "base_uri": "https://localhost:8080/"
        }
      },
      "source": [
        "problems = list(\"abcdef\")\r\n",
        "\r\n",
        "while True:\r\n",
        "    print(\"Remaining problem:\",problems)\r\n",
        "    problem = select_problem(problems)\r\n",
        "    if problem:\r\n",
        "        print(\"Chosen:\",problem)\r\n",
        "    else:\r\n",
        "        print(\"No more problem\")\r\n",
        "        break"
      ],
      "execution_count": 2,
      "outputs": [
        {
          "output_type": "stream",
          "text": [
            "Remaining problem: ['a', 'b', 'c', 'd', 'e', 'f']\n",
            "Chosen: e\n",
            "Remaining problem: ['a', 'b', 'c', 'd', 'f']\n",
            "Chosen: d\n",
            "Remaining problem: ['a', 'b', 'c', 'f']\n",
            "Chosen: f\n",
            "Remaining problem: ['a', 'b', 'c']\n",
            "Chosen: c\n",
            "Remaining problem: ['a', 'b']\n",
            "Chosen: b\n",
            "Remaining problem: ['a']\n",
            "Chosen: a\n",
            "Remaining problem: []\n",
            "No more problem\n"
          ],
          "name": "stdout"
        }
      ]
    },
    {
      "cell_type": "code",
      "metadata": {
        "id": "v16OFg6uzz7X"
      },
      "source": [
        ""
      ],
      "execution_count": null,
      "outputs": []
    }
  ]
}